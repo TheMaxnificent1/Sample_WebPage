{
  "cells": [
    {
      "cell_type": "markdown",
      "metadata": {
        "id": "view-in-github",
        "colab_type": "text"
      },
      "source": [
        "<a href=\"https://colab.research.google.com/github/TheMaxnificent1/Sample_WebPage/blob/main/Copy_of_12_1_sentiment_analysis.ipynb\" target=\"_parent\"><img src=\"https://colab.research.google.com/assets/colab-badge.svg\" alt=\"Open In Colab\"/></a>"
      ]
    },
    {
      "cell_type": "markdown",
      "metadata": {
        "id": "27y8MKfSPbyD"
      },
      "source": [
        "# Preparing Data\n",
        "\n",
        "So far you have created a simple system for making a call on if a review has a positive or negative overall rating. This system works as long as the review uses words that you have predetermined as positive or negative.\n",
        "\n",
        "But what about reviews with more complicated words or phrases? In order to have a more nuanced and general understanding of text from the reviews, you are going to build a neural network that is trained using data from reviews. This network will build a more nuanced understanding of the review data.\n",
        "\n",
        " There are three main stages of creating this network: \n",
        "\n",
        "* Importing and cleaning up the data\n",
        "* Vectorizing the data\n",
        "* Creating and training the network\n",
        "\n",
        "\n",
        "To start, you are going to import the data and do some basic clean-up on it. \n",
        "\n",
        "1. Download [this](https://drive.google.com/file/d/18UVOyFEZlPyTmFFkuueRIjV44RqBJhqX/view?usp=sharing) file and upload it to the runtime \n",
        "2. Run the cell below to import required libraries. \n",
        "\n"
      ]
    },
    {
      "cell_type": "code",
      "execution_count": 3,
      "metadata": {
        "colab": {
          "base_uri": "https://localhost:8080/"
        },
        "id": "OFyG9QYvuRtB",
        "outputId": "2728b29f-0437-438c-bfca-4bd13c449d2c"
      },
      "outputs": [
        {
          "output_type": "stream",
          "name": "stderr",
          "text": [
            "[nltk_data] Downloading package stopwords to /root/nltk_data...\n",
            "[nltk_data]   Package stopwords is already up-to-date!\n"
          ]
        }
      ],
      "source": [
        "import pandas as pd\n",
        "import numpy as np\n",
        "\n",
        "import string\n",
        "from string import punctuation\n",
        "import nltk\n",
        "from nltk.corpus import stopwords\n",
        "nltk.download('stopwords')\n",
        "\n",
        "import tensorflow as tf\n",
        "\n",
        "from tensorflow.keras.layers import Input, Dense, Dropout\n",
        "from tensorflow.keras.models import Sequential \n",
        "\n",
        "import sklearn\n",
        "from sklearn.model_selection import train_test_split\n",
        "from sklearn.feature_extraction.text import CountVectorizer, TfidfTransformer, TfidfVectorizer\n",
        "\n",
        "import joblib"
      ]
    },
    {
      "cell_type": "markdown",
      "metadata": {
        "id": "VPji7UxJPv-8"
      },
      "source": [
        "2. Run the cell below to read data into your program and see the first few rows. "
      ]
    },
    {
      "cell_type": "code",
      "execution_count": 4,
      "metadata": {
        "id": "ghiiYoJDViMs",
        "outputId": "31c803e3-d032-4441-b280-362c91992460",
        "colab": {
          "base_uri": "https://localhost:8080/",
          "height": 206
        }
      },
      "outputs": [
        {
          "output_type": "execute_result",
          "data": {
            "text/plain": [
              "   Id   ProductId          UserId                      ProfileName  \\\n",
              "0   1  B001E4KFG0  A3SGXH7AUHU8GW                       delmartian   \n",
              "1   2  B00813GRG4  A1D87F6ZCVE5NK                           dll pa   \n",
              "2   3  B000LQOCH0   ABXLMWJIXXAIN  Natalia Corres \"Natalia Corres\"   \n",
              "3   4  B000UA0QIQ  A395BORC6FGVXV                             Karl   \n",
              "4   5  B006K2ZZ7K  A1UQRSCLF8GW1T    Michael D. Bigham \"M. Wassir\"   \n",
              "\n",
              "   HelpfulnessNumerator  HelpfulnessDenominator  Score        Time  \\\n",
              "0                     1                       1      5  1303862400   \n",
              "1                     0                       0      1  1346976000   \n",
              "2                     1                       1      4  1219017600   \n",
              "3                     3                       3      2  1307923200   \n",
              "4                     0                       0      5  1350777600   \n",
              "\n",
              "                 Summary                                               Text  \n",
              "0  Good Quality Dog Food  I have bought several of the Vitality canned d...  \n",
              "1      Not as Advertised  Product arrived labeled as Jumbo Salted Peanut...  \n",
              "2  \"Delight\" says it all  This is a confection that has been around a fe...  \n",
              "3         Cough Medicine  If you are looking for the secret ingredient i...  \n",
              "4            Great taffy  Great taffy at a great price.  There was a wid...  "
            ],
            "text/html": [
              "\n",
              "  <div id=\"df-fc30911f-9112-4619-a9de-bbf09e55e9eb\">\n",
              "    <div class=\"colab-df-container\">\n",
              "      <div>\n",
              "<style scoped>\n",
              "    .dataframe tbody tr th:only-of-type {\n",
              "        vertical-align: middle;\n",
              "    }\n",
              "\n",
              "    .dataframe tbody tr th {\n",
              "        vertical-align: top;\n",
              "    }\n",
              "\n",
              "    .dataframe thead th {\n",
              "        text-align: right;\n",
              "    }\n",
              "</style>\n",
              "<table border=\"1\" class=\"dataframe\">\n",
              "  <thead>\n",
              "    <tr style=\"text-align: right;\">\n",
              "      <th></th>\n",
              "      <th>Id</th>\n",
              "      <th>ProductId</th>\n",
              "      <th>UserId</th>\n",
              "      <th>ProfileName</th>\n",
              "      <th>HelpfulnessNumerator</th>\n",
              "      <th>HelpfulnessDenominator</th>\n",
              "      <th>Score</th>\n",
              "      <th>Time</th>\n",
              "      <th>Summary</th>\n",
              "      <th>Text</th>\n",
              "    </tr>\n",
              "  </thead>\n",
              "  <tbody>\n",
              "    <tr>\n",
              "      <th>0</th>\n",
              "      <td>1</td>\n",
              "      <td>B001E4KFG0</td>\n",
              "      <td>A3SGXH7AUHU8GW</td>\n",
              "      <td>delmartian</td>\n",
              "      <td>1</td>\n",
              "      <td>1</td>\n",
              "      <td>5</td>\n",
              "      <td>1303862400</td>\n",
              "      <td>Good Quality Dog Food</td>\n",
              "      <td>I have bought several of the Vitality canned d...</td>\n",
              "    </tr>\n",
              "    <tr>\n",
              "      <th>1</th>\n",
              "      <td>2</td>\n",
              "      <td>B00813GRG4</td>\n",
              "      <td>A1D87F6ZCVE5NK</td>\n",
              "      <td>dll pa</td>\n",
              "      <td>0</td>\n",
              "      <td>0</td>\n",
              "      <td>1</td>\n",
              "      <td>1346976000</td>\n",
              "      <td>Not as Advertised</td>\n",
              "      <td>Product arrived labeled as Jumbo Salted Peanut...</td>\n",
              "    </tr>\n",
              "    <tr>\n",
              "      <th>2</th>\n",
              "      <td>3</td>\n",
              "      <td>B000LQOCH0</td>\n",
              "      <td>ABXLMWJIXXAIN</td>\n",
              "      <td>Natalia Corres \"Natalia Corres\"</td>\n",
              "      <td>1</td>\n",
              "      <td>1</td>\n",
              "      <td>4</td>\n",
              "      <td>1219017600</td>\n",
              "      <td>\"Delight\" says it all</td>\n",
              "      <td>This is a confection that has been around a fe...</td>\n",
              "    </tr>\n",
              "    <tr>\n",
              "      <th>3</th>\n",
              "      <td>4</td>\n",
              "      <td>B000UA0QIQ</td>\n",
              "      <td>A395BORC6FGVXV</td>\n",
              "      <td>Karl</td>\n",
              "      <td>3</td>\n",
              "      <td>3</td>\n",
              "      <td>2</td>\n",
              "      <td>1307923200</td>\n",
              "      <td>Cough Medicine</td>\n",
              "      <td>If you are looking for the secret ingredient i...</td>\n",
              "    </tr>\n",
              "    <tr>\n",
              "      <th>4</th>\n",
              "      <td>5</td>\n",
              "      <td>B006K2ZZ7K</td>\n",
              "      <td>A1UQRSCLF8GW1T</td>\n",
              "      <td>Michael D. Bigham \"M. Wassir\"</td>\n",
              "      <td>0</td>\n",
              "      <td>0</td>\n",
              "      <td>5</td>\n",
              "      <td>1350777600</td>\n",
              "      <td>Great taffy</td>\n",
              "      <td>Great taffy at a great price.  There was a wid...</td>\n",
              "    </tr>\n",
              "  </tbody>\n",
              "</table>\n",
              "</div>\n",
              "      <button class=\"colab-df-convert\" onclick=\"convertToInteractive('df-fc30911f-9112-4619-a9de-bbf09e55e9eb')\"\n",
              "              title=\"Convert this dataframe to an interactive table.\"\n",
              "              style=\"display:none;\">\n",
              "        \n",
              "  <svg xmlns=\"http://www.w3.org/2000/svg\" height=\"24px\"viewBox=\"0 0 24 24\"\n",
              "       width=\"24px\">\n",
              "    <path d=\"M0 0h24v24H0V0z\" fill=\"none\"/>\n",
              "    <path d=\"M18.56 5.44l.94 2.06.94-2.06 2.06-.94-2.06-.94-.94-2.06-.94 2.06-2.06.94zm-11 1L8.5 8.5l.94-2.06 2.06-.94-2.06-.94L8.5 2.5l-.94 2.06-2.06.94zm10 10l.94 2.06.94-2.06 2.06-.94-2.06-.94-.94-2.06-.94 2.06-2.06.94z\"/><path d=\"M17.41 7.96l-1.37-1.37c-.4-.4-.92-.59-1.43-.59-.52 0-1.04.2-1.43.59L10.3 9.45l-7.72 7.72c-.78.78-.78 2.05 0 2.83L4 21.41c.39.39.9.59 1.41.59.51 0 1.02-.2 1.41-.59l7.78-7.78 2.81-2.81c.8-.78.8-2.07 0-2.86zM5.41 20L4 18.59l7.72-7.72 1.47 1.35L5.41 20z\"/>\n",
              "  </svg>\n",
              "      </button>\n",
              "      \n",
              "  <style>\n",
              "    .colab-df-container {\n",
              "      display:flex;\n",
              "      flex-wrap:wrap;\n",
              "      gap: 12px;\n",
              "    }\n",
              "\n",
              "    .colab-df-convert {\n",
              "      background-color: #E8F0FE;\n",
              "      border: none;\n",
              "      border-radius: 50%;\n",
              "      cursor: pointer;\n",
              "      display: none;\n",
              "      fill: #1967D2;\n",
              "      height: 32px;\n",
              "      padding: 0 0 0 0;\n",
              "      width: 32px;\n",
              "    }\n",
              "\n",
              "    .colab-df-convert:hover {\n",
              "      background-color: #E2EBFA;\n",
              "      box-shadow: 0px 1px 2px rgba(60, 64, 67, 0.3), 0px 1px 3px 1px rgba(60, 64, 67, 0.15);\n",
              "      fill: #174EA6;\n",
              "    }\n",
              "\n",
              "    [theme=dark] .colab-df-convert {\n",
              "      background-color: #3B4455;\n",
              "      fill: #D2E3FC;\n",
              "    }\n",
              "\n",
              "    [theme=dark] .colab-df-convert:hover {\n",
              "      background-color: #434B5C;\n",
              "      box-shadow: 0px 1px 3px 1px rgba(0, 0, 0, 0.15);\n",
              "      filter: drop-shadow(0px 1px 2px rgba(0, 0, 0, 0.3));\n",
              "      fill: #FFFFFF;\n",
              "    }\n",
              "  </style>\n",
              "\n",
              "      <script>\n",
              "        const buttonEl =\n",
              "          document.querySelector('#df-fc30911f-9112-4619-a9de-bbf09e55e9eb button.colab-df-convert');\n",
              "        buttonEl.style.display =\n",
              "          google.colab.kernel.accessAllowed ? 'block' : 'none';\n",
              "\n",
              "        async function convertToInteractive(key) {\n",
              "          const element = document.querySelector('#df-fc30911f-9112-4619-a9de-bbf09e55e9eb');\n",
              "          const dataTable =\n",
              "            await google.colab.kernel.invokeFunction('convertToInteractive',\n",
              "                                                     [key], {});\n",
              "          if (!dataTable) return;\n",
              "\n",
              "          const docLinkHtml = 'Like what you see? Visit the ' +\n",
              "            '<a target=\"_blank\" href=https://colab.research.google.com/notebooks/data_table.ipynb>data table notebook</a>'\n",
              "            + ' to learn more about interactive tables.';\n",
              "          element.innerHTML = '';\n",
              "          dataTable['output_type'] = 'display_data';\n",
              "          await google.colab.output.renderOutput(dataTable, element);\n",
              "          const docLink = document.createElement('div');\n",
              "          docLink.innerHTML = docLinkHtml;\n",
              "          element.appendChild(docLink);\n",
              "        }\n",
              "      </script>\n",
              "    </div>\n",
              "  </div>\n",
              "  "
            ]
          },
          "metadata": {},
          "execution_count": 4
        }
      ],
      "source": [
        "# Load in the data\n",
        "data = pd.read_csv('Reviews.csv')\n",
        "\n",
        "# Print the first few rows of data\n",
        "data.head()"
      ]
    },
    {
      "cell_type": "markdown",
      "metadata": {
        "id": "ijSR011lZLaK"
      },
      "source": [
        "## Cleaning Up Data\n",
        "\n",
        "\n",
        "Now that you have the data imported, it's time to extract only the parts you need to train the network.\n",
        "\n",
        "1. Drop UserId, Id and Time from your data since you don't need it. \n",
        "2. Use data.head() to see your data. \n",
        "\n",
        "<details><summary>Click for Code</summary>\n",
        "\n",
        "```\n",
        "data = data.drop(['UserId', 'Id', 'Time' ], axis=1)\n",
        "\n",
        "data.dropna(inplace=True)\n",
        "\n",
        "data.head()\n",
        "```\n",
        "</details>"
      ]
    },
    {
      "cell_type": "code",
      "execution_count": 5,
      "metadata": {
        "id": "Gjpkc9uTZSVn",
        "outputId": "16fa27f1-b83c-4cb3-a6b1-ee59470ab1c7",
        "colab": {
          "base_uri": "https://localhost:8080/",
          "height": 206
        }
      },
      "outputs": [
        {
          "output_type": "execute_result",
          "data": {
            "text/plain": [
              "    ProductId                      ProfileName  HelpfulnessNumerator  \\\n",
              "0  B001E4KFG0                       delmartian                     1   \n",
              "1  B00813GRG4                           dll pa                     0   \n",
              "2  B000LQOCH0  Natalia Corres \"Natalia Corres\"                     1   \n",
              "3  B000UA0QIQ                             Karl                     3   \n",
              "4  B006K2ZZ7K    Michael D. Bigham \"M. Wassir\"                     0   \n",
              "\n",
              "   HelpfulnessDenominator  Score                Summary  \\\n",
              "0                       1      5  Good Quality Dog Food   \n",
              "1                       0      1      Not as Advertised   \n",
              "2                       1      4  \"Delight\" says it all   \n",
              "3                       3      2         Cough Medicine   \n",
              "4                       0      5            Great taffy   \n",
              "\n",
              "                                                Text  \n",
              "0  I have bought several of the Vitality canned d...  \n",
              "1  Product arrived labeled as Jumbo Salted Peanut...  \n",
              "2  This is a confection that has been around a fe...  \n",
              "3  If you are looking for the secret ingredient i...  \n",
              "4  Great taffy at a great price.  There was a wid...  "
            ],
            "text/html": [
              "\n",
              "  <div id=\"df-c033a86a-1916-4260-8b50-094d0d031ec4\">\n",
              "    <div class=\"colab-df-container\">\n",
              "      <div>\n",
              "<style scoped>\n",
              "    .dataframe tbody tr th:only-of-type {\n",
              "        vertical-align: middle;\n",
              "    }\n",
              "\n",
              "    .dataframe tbody tr th {\n",
              "        vertical-align: top;\n",
              "    }\n",
              "\n",
              "    .dataframe thead th {\n",
              "        text-align: right;\n",
              "    }\n",
              "</style>\n",
              "<table border=\"1\" class=\"dataframe\">\n",
              "  <thead>\n",
              "    <tr style=\"text-align: right;\">\n",
              "      <th></th>\n",
              "      <th>ProductId</th>\n",
              "      <th>ProfileName</th>\n",
              "      <th>HelpfulnessNumerator</th>\n",
              "      <th>HelpfulnessDenominator</th>\n",
              "      <th>Score</th>\n",
              "      <th>Summary</th>\n",
              "      <th>Text</th>\n",
              "    </tr>\n",
              "  </thead>\n",
              "  <tbody>\n",
              "    <tr>\n",
              "      <th>0</th>\n",
              "      <td>B001E4KFG0</td>\n",
              "      <td>delmartian</td>\n",
              "      <td>1</td>\n",
              "      <td>1</td>\n",
              "      <td>5</td>\n",
              "      <td>Good Quality Dog Food</td>\n",
              "      <td>I have bought several of the Vitality canned d...</td>\n",
              "    </tr>\n",
              "    <tr>\n",
              "      <th>1</th>\n",
              "      <td>B00813GRG4</td>\n",
              "      <td>dll pa</td>\n",
              "      <td>0</td>\n",
              "      <td>0</td>\n",
              "      <td>1</td>\n",
              "      <td>Not as Advertised</td>\n",
              "      <td>Product arrived labeled as Jumbo Salted Peanut...</td>\n",
              "    </tr>\n",
              "    <tr>\n",
              "      <th>2</th>\n",
              "      <td>B000LQOCH0</td>\n",
              "      <td>Natalia Corres \"Natalia Corres\"</td>\n",
              "      <td>1</td>\n",
              "      <td>1</td>\n",
              "      <td>4</td>\n",
              "      <td>\"Delight\" says it all</td>\n",
              "      <td>This is a confection that has been around a fe...</td>\n",
              "    </tr>\n",
              "    <tr>\n",
              "      <th>3</th>\n",
              "      <td>B000UA0QIQ</td>\n",
              "      <td>Karl</td>\n",
              "      <td>3</td>\n",
              "      <td>3</td>\n",
              "      <td>2</td>\n",
              "      <td>Cough Medicine</td>\n",
              "      <td>If you are looking for the secret ingredient i...</td>\n",
              "    </tr>\n",
              "    <tr>\n",
              "      <th>4</th>\n",
              "      <td>B006K2ZZ7K</td>\n",
              "      <td>Michael D. Bigham \"M. Wassir\"</td>\n",
              "      <td>0</td>\n",
              "      <td>0</td>\n",
              "      <td>5</td>\n",
              "      <td>Great taffy</td>\n",
              "      <td>Great taffy at a great price.  There was a wid...</td>\n",
              "    </tr>\n",
              "  </tbody>\n",
              "</table>\n",
              "</div>\n",
              "      <button class=\"colab-df-convert\" onclick=\"convertToInteractive('df-c033a86a-1916-4260-8b50-094d0d031ec4')\"\n",
              "              title=\"Convert this dataframe to an interactive table.\"\n",
              "              style=\"display:none;\">\n",
              "        \n",
              "  <svg xmlns=\"http://www.w3.org/2000/svg\" height=\"24px\"viewBox=\"0 0 24 24\"\n",
              "       width=\"24px\">\n",
              "    <path d=\"M0 0h24v24H0V0z\" fill=\"none\"/>\n",
              "    <path d=\"M18.56 5.44l.94 2.06.94-2.06 2.06-.94-2.06-.94-.94-2.06-.94 2.06-2.06.94zm-11 1L8.5 8.5l.94-2.06 2.06-.94-2.06-.94L8.5 2.5l-.94 2.06-2.06.94zm10 10l.94 2.06.94-2.06 2.06-.94-2.06-.94-.94-2.06-.94 2.06-2.06.94z\"/><path d=\"M17.41 7.96l-1.37-1.37c-.4-.4-.92-.59-1.43-.59-.52 0-1.04.2-1.43.59L10.3 9.45l-7.72 7.72c-.78.78-.78 2.05 0 2.83L4 21.41c.39.39.9.59 1.41.59.51 0 1.02-.2 1.41-.59l7.78-7.78 2.81-2.81c.8-.78.8-2.07 0-2.86zM5.41 20L4 18.59l7.72-7.72 1.47 1.35L5.41 20z\"/>\n",
              "  </svg>\n",
              "      </button>\n",
              "      \n",
              "  <style>\n",
              "    .colab-df-container {\n",
              "      display:flex;\n",
              "      flex-wrap:wrap;\n",
              "      gap: 12px;\n",
              "    }\n",
              "\n",
              "    .colab-df-convert {\n",
              "      background-color: #E8F0FE;\n",
              "      border: none;\n",
              "      border-radius: 50%;\n",
              "      cursor: pointer;\n",
              "      display: none;\n",
              "      fill: #1967D2;\n",
              "      height: 32px;\n",
              "      padding: 0 0 0 0;\n",
              "      width: 32px;\n",
              "    }\n",
              "\n",
              "    .colab-df-convert:hover {\n",
              "      background-color: #E2EBFA;\n",
              "      box-shadow: 0px 1px 2px rgba(60, 64, 67, 0.3), 0px 1px 3px 1px rgba(60, 64, 67, 0.15);\n",
              "      fill: #174EA6;\n",
              "    }\n",
              "\n",
              "    [theme=dark] .colab-df-convert {\n",
              "      background-color: #3B4455;\n",
              "      fill: #D2E3FC;\n",
              "    }\n",
              "\n",
              "    [theme=dark] .colab-df-convert:hover {\n",
              "      background-color: #434B5C;\n",
              "      box-shadow: 0px 1px 3px 1px rgba(0, 0, 0, 0.15);\n",
              "      filter: drop-shadow(0px 1px 2px rgba(0, 0, 0, 0.3));\n",
              "      fill: #FFFFFF;\n",
              "    }\n",
              "  </style>\n",
              "\n",
              "      <script>\n",
              "        const buttonEl =\n",
              "          document.querySelector('#df-c033a86a-1916-4260-8b50-094d0d031ec4 button.colab-df-convert');\n",
              "        buttonEl.style.display =\n",
              "          google.colab.kernel.accessAllowed ? 'block' : 'none';\n",
              "\n",
              "        async function convertToInteractive(key) {\n",
              "          const element = document.querySelector('#df-c033a86a-1916-4260-8b50-094d0d031ec4');\n",
              "          const dataTable =\n",
              "            await google.colab.kernel.invokeFunction('convertToInteractive',\n",
              "                                                     [key], {});\n",
              "          if (!dataTable) return;\n",
              "\n",
              "          const docLinkHtml = 'Like what you see? Visit the ' +\n",
              "            '<a target=\"_blank\" href=https://colab.research.google.com/notebooks/data_table.ipynb>data table notebook</a>'\n",
              "            + ' to learn more about interactive tables.';\n",
              "          element.innerHTML = '';\n",
              "          dataTable['output_type'] = 'display_data';\n",
              "          await google.colab.output.renderOutput(dataTable, element);\n",
              "          const docLink = document.createElement('div');\n",
              "          docLink.innerHTML = docLinkHtml;\n",
              "          element.appendChild(docLink);\n",
              "        }\n",
              "      </script>\n",
              "    </div>\n",
              "  </div>\n",
              "  "
            ]
          },
          "metadata": {},
          "execution_count": 5
        }
      ],
      "source": [
        "# Drop unneeded data\n",
        "data = data.drop(['UserId', 'Id', 'Time' ], axis=1)\n",
        "data.dropna(inplace=True)\n",
        "\n",
        "# Add data.head() here:\n",
        "data.head()"
      ]
    },
    {
      "cell_type": "markdown",
      "metadata": {
        "id": "nTrijWIDs6vQ"
      },
      "source": [
        "##Adding a Polarity Column\n",
        "\n",
        "\n",
        "Now it's time to add a new column that keeps a label of the rating as either positive, negative, or neutral. In order to do this, you will use the star rating of the reviews. If the reviewer gave the item 4 or 5 stars (more than 3) then it's a positive review, if the reviewer gave the item 1 or 2 stars (less than 3) then it's a negative review, and if it's 3 stars, then it is neutral.\n",
        "\n",
        "\n",
        "1. Look at the code to see how a function can get applied to the data. \n",
        "2. Run the cell to apply the lamda function. "
      ]
    },
    {
      "cell_type": "code",
      "execution_count": 6,
      "metadata": {
        "id": "FvYUbQ6Zs9m3"
      },
      "outputs": [],
      "source": [
        "# Add a column for Positive, Negative, and Neutral reviews.\n",
        "data['Polarity_Rating'] = data['Score'].apply(lambda x: 'Positive' if x > 3 else('Neutral' if x==3 else 'Negative'))"
      ]
    },
    {
      "cell_type": "markdown",
      "metadata": {
        "id": "E9tPqvnXvxME"
      },
      "source": [
        "## Sampling the Data\n",
        "\n",
        "\n",
        "Now it's time to separate the data into separate groups depending on if it's positive negative or neutral. You will use these lists to make sure that there is an equal amount of each kind of review. \n",
        "\n",
        "1. Look at the cell below to see how to separate the positive data. \n",
        "2. Repeat the code for the negative and nuetral datasets. "
      ]
    },
    {
      "cell_type": "code",
      "execution_count": 7,
      "metadata": {
        "id": "yAVkDCoBv0Lm"
      },
      "outputs": [],
      "source": [
        "data_positive = data[data['Polarity_Rating'] == 'Positive']\n",
        "# Add code to make negative and neutral datasets\n",
        "data_negative = data[data['Polarity_Rating'] == 'Negative']\n",
        "data_neutral = data[data['Polarity_Rating'] == 'Neutral']"
      ]
    },
    {
      "cell_type": "markdown",
      "metadata": {
        "id": "i3dm422TwbEk"
      },
      "source": [
        "2. Print out the shape of each list"
      ]
    },
    {
      "cell_type": "code",
      "execution_count": 8,
      "metadata": {
        "id": "TGHrHKyJwai9",
        "outputId": "4a703c05-e7f0-4484-cfe1-1df9d247f6b8",
        "colab": {
          "base_uri": "https://localhost:8080/"
        }
      },
      "outputs": [
        {
          "output_type": "stream",
          "name": "stdout",
          "text": [
            "(443766, 8)\n",
            "(82007, 8)\n",
            "(42638, 8)\n"
          ]
        }
      ],
      "source": [
        "# Add print statements here:\n",
        "print(data_positive.shape)\n",
        "print(data_negative.shape)\n",
        "print(data_neutral.shape)\n",
        "\n"
      ]
    },
    {
      "cell_type": "markdown",
      "metadata": {
        "id": "9Del87RtxNt6"
      },
      "source": [
        "3. Use the `sample` method to get a sample that is a size that makes sensse for these datasets. Each dataset should be the same size. \n",
        "\n",
        "<details><summary>Click for code</summary>\n",
        "\n",
        "```\n",
        "\n",
        "data_positive = data_positive.sample(8000)\n",
        "\n",
        "data_negative = data_negative.sample(8000)\n",
        "\n",
        "data_neutral = data_neutral.sample(8000)\n",
        "\n"
      ]
    },
    {
      "cell_type": "code",
      "execution_count": 9,
      "metadata": {
        "id": "WBpyXKm1xiR-"
      },
      "outputs": [],
      "source": [
        "# Use the sample method here: \n",
        "data_positive = data_positive.sample(8000)\n",
        "\n",
        "data_negative = data_negative.sample(8000)\n",
        "\n",
        "data_neutral = data_neutral.sample(8000)"
      ]
    },
    {
      "cell_type": "markdown",
      "metadata": {
        "id": "jY3A6Y4sxtl7"
      },
      "source": [
        "4. Print out the shape of the datasets againn to make sure they are the same size. "
      ]
    },
    {
      "cell_type": "code",
      "execution_count": 10,
      "metadata": {
        "id": "h0w0dHCwxybC",
        "colab": {
          "base_uri": "https://localhost:8080/"
        },
        "outputId": "6fcd617a-2f5b-4a23-8c43-859d984d8e15"
      },
      "outputs": [
        {
          "output_type": "stream",
          "name": "stdout",
          "text": [
            "(8000, 8)\n",
            "(8000, 8)\n",
            "(8000, 8)\n"
          ]
        }
      ],
      "source": [
        "# Add print statements here\n",
        "print(data_positive.shape)\n",
        "print(data_negative.shape)\n",
        "print(data_neutral.shape)\n",
        "\n",
        " "
      ]
    },
    {
      "cell_type": "markdown",
      "metadata": {
        "id": "gHVnP-0_ZiVG"
      },
      "source": [
        "5. Add a print statement to prinnt the shape of your new data \n",
        "6. Run the cell to combine the lists together to create one large dataset \n",
        "\n"
      ]
    },
    {
      "cell_type": "code",
      "execution_count": 11,
      "metadata": {
        "id": "HVsdGo7mZhQ6",
        "colab": {
          "base_uri": "https://localhost:8080/"
        },
        "outputId": "c02bf780-3e24-43a5-dd07-86fa349c2190"
      },
      "outputs": [
        {
          "output_type": "stream",
          "name": "stdout",
          "text": [
            "         ProductId              ProfileName  HelpfulnessNumerator  \\\n",
            "320796  B001EQ56VC                  kradkin                     0   \n",
            "349745  B001HTIYWY      B. Lima \"galaxypie\"                     0   \n",
            "127159  B000HDL1P8             Jane Shepard                     0   \n",
            "213938  B000EPMP40                      JCH                     0   \n",
            "291861  B001EO5Y8Y                  Betsy C                     0   \n",
            "...            ...                      ...                   ...   \n",
            "510290  B001ULOTKU  K. Eickhoff \"Amazonfan\"                     3   \n",
            "82418   B0007IQQXA         C. F. Hill \"CFH\"                     0   \n",
            "136031  B005SPQENY                    Lemon                     1   \n",
            "291083  B005HG9ESG        Lisa Stubblefield                     0   \n",
            "215506  B0014X5O1C         Dustin G. Rhodes                     0   \n",
            "\n",
            "        HelpfulnessDenominator  Score  \\\n",
            "320796                       1      4   \n",
            "349745                       0      5   \n",
            "127159                       0      5   \n",
            "213938                       0      5   \n",
            "291861                       0      5   \n",
            "...                        ...    ...   \n",
            "510290                       3      3   \n",
            "82418                        0      3   \n",
            "136031                       1      3   \n",
            "291083                       0      3   \n",
            "215506                       0      3   \n",
            "\n",
            "                                            Summary  \\\n",
            "320796               Good base but add more seasons   \n",
            "349745                     A Most Delicious Granola   \n",
            "127159                             Easy & delicious   \n",
            "213938                BEST GLUTEN FREE COOKIE EVER!   \n",
            "291861                                    Loved it!   \n",
            "...                                             ...   \n",
            "510290                       Good but VERRRY messy!   \n",
            "82418                       Just OK Flavored Coffee   \n",
            "136031  Tasty - But Only If You Like a Chunky Drink   \n",
            "291083                            Tasted like water   \n",
            "215506                        coca cola in disguise   \n",
            "\n",
            "                                                     Text Polarity_Rating  \n",
            "320796  We make a lot of taco or taco-like meals and t...        Positive  \n",
            "349745  I love this cereal. It is by far the best gran...        Positive  \n",
            "127159  Low in calories, makes a large quantity, very ...        Positive  \n",
            "213938  I received a basket of gluten free items for C...        Positive  \n",
            "291861  I like really strong coffee, so when I got my ...        Positive  \n",
            "...                                                   ...             ...  \n",
            "510290  I buy these for my 22 month old son. He LOVES ...         Neutral  \n",
            "82418   A sample of these Van Houtte \"French Vanilla K...         Neutral  \n",
            "136031  This is a tasty tea, but I think solids within...         Neutral  \n",
            "291083  No surprises here, I guess. When I drank it, I...         Neutral  \n",
            "215506  Disappointingly, this fortified drink is sicke...         Neutral  \n",
            "\n",
            "[24000 rows x 8 columns]\n"
          ]
        }
      ],
      "source": [
        "data = pd.concat([data_positive, data_negative, data_neutral])\n",
        "# Add your print statement\n",
        "print(data)"
      ]
    },
    {
      "cell_type": "markdown",
      "metadata": {
        "id": "3z4w83ekx2Kc"
      },
      "source": [
        "## Cleaning up the Text\n",
        "\n",
        "Now that you have one large list of the data, it's time to clean the actual text in it. You will create a function that removes punctuation and stop words from the text. The string library has a built-in list of stop words. Stop words are words that don't contain important information and are extremely common in the English language. These are words like: \"is\", \"are\", \"the\". \n",
        "\n",
        "\n",
        "1. Run the cell to add a function to remove stop words and punctuation from the text\n",
        "\n"
      ]
    },
    {
      "cell_type": "code",
      "execution_count": 12,
      "metadata": {
        "id": "az0e3uMTx-qy"
      },
      "outputs": [],
      "source": [
        "def text_cleanup(text):\n",
        "  stopwrds = stopwords.words('english')\n",
        "  no_punc = [char for char in text if char not in string.punctuation]\n",
        "  no_punc = ''.join(no_punc)\n",
        "  return ' '.join([word for word in no_punc.split() if word.lower not in stopwrds])\n"
      ]
    },
    {
      "cell_type": "markdown",
      "metadata": {
        "id": "5JRTSlx5yFSM"
      },
      "source": [
        "2. Create a new column called reviews that applies the text cleanup function\n",
        "\n",
        "<details><summary>Click for code</summary>\n",
        "\n",
        "```\n",
        "data['reviews'] = data['Text'].apply(text_cleanup)\n",
        "```\n",
        "</details>"
      ]
    },
    {
      "cell_type": "code",
      "execution_count": 13,
      "metadata": {
        "id": "CoPiNyPIyJLe",
        "colab": {
          "base_uri": "https://localhost:8080/",
          "height": 206
        },
        "outputId": "aa2c1c3e-28a5-44d9-d65e-e1224678a839"
      },
      "outputs": [
        {
          "output_type": "execute_result",
          "data": {
            "text/plain": [
              "         ProductId          ProfileName  HelpfulnessNumerator  \\\n",
              "320796  B001EQ56VC              kradkin                     0   \n",
              "349745  B001HTIYWY  B. Lima \"galaxypie\"                     0   \n",
              "127159  B000HDL1P8         Jane Shepard                     0   \n",
              "213938  B000EPMP40                  JCH                     0   \n",
              "291861  B001EO5Y8Y              Betsy C                     0   \n",
              "\n",
              "        HelpfulnessDenominator  Score                         Summary  \\\n",
              "320796                       1      4  Good base but add more seasons   \n",
              "349745                       0      5        A Most Delicious Granola   \n",
              "127159                       0      5                Easy & delicious   \n",
              "213938                       0      5   BEST GLUTEN FREE COOKIE EVER!   \n",
              "291861                       0      5                       Loved it!   \n",
              "\n",
              "                                                     Text Polarity_Rating  \\\n",
              "320796  We make a lot of taco or taco-like meals and t...        Positive   \n",
              "349745  I love this cereal. It is by far the best gran...        Positive   \n",
              "127159  Low in calories, makes a large quantity, very ...        Positive   \n",
              "213938  I received a basket of gluten free items for C...        Positive   \n",
              "291861  I like really strong coffee, so when I got my ...        Positive   \n",
              "\n",
              "                                                  reviews  \n",
              "320796  We make a lot of taco or tacolike meals and th...  \n",
              "349745  I love this cereal It is by far the best grano...  \n",
              "127159  Low in calories makes a large quantity very ta...  \n",
              "213938  I received a basket of gluten free items for C...  \n",
              "291861  I like really strong coffee so when I got my K...  "
            ],
            "text/html": [
              "\n",
              "  <div id=\"df-3dd77dfa-a3a5-41ee-bc69-575fdebb2775\">\n",
              "    <div class=\"colab-df-container\">\n",
              "      <div>\n",
              "<style scoped>\n",
              "    .dataframe tbody tr th:only-of-type {\n",
              "        vertical-align: middle;\n",
              "    }\n",
              "\n",
              "    .dataframe tbody tr th {\n",
              "        vertical-align: top;\n",
              "    }\n",
              "\n",
              "    .dataframe thead th {\n",
              "        text-align: right;\n",
              "    }\n",
              "</style>\n",
              "<table border=\"1\" class=\"dataframe\">\n",
              "  <thead>\n",
              "    <tr style=\"text-align: right;\">\n",
              "      <th></th>\n",
              "      <th>ProductId</th>\n",
              "      <th>ProfileName</th>\n",
              "      <th>HelpfulnessNumerator</th>\n",
              "      <th>HelpfulnessDenominator</th>\n",
              "      <th>Score</th>\n",
              "      <th>Summary</th>\n",
              "      <th>Text</th>\n",
              "      <th>Polarity_Rating</th>\n",
              "      <th>reviews</th>\n",
              "    </tr>\n",
              "  </thead>\n",
              "  <tbody>\n",
              "    <tr>\n",
              "      <th>320796</th>\n",
              "      <td>B001EQ56VC</td>\n",
              "      <td>kradkin</td>\n",
              "      <td>0</td>\n",
              "      <td>1</td>\n",
              "      <td>4</td>\n",
              "      <td>Good base but add more seasons</td>\n",
              "      <td>We make a lot of taco or taco-like meals and t...</td>\n",
              "      <td>Positive</td>\n",
              "      <td>We make a lot of taco or tacolike meals and th...</td>\n",
              "    </tr>\n",
              "    <tr>\n",
              "      <th>349745</th>\n",
              "      <td>B001HTIYWY</td>\n",
              "      <td>B. Lima \"galaxypie\"</td>\n",
              "      <td>0</td>\n",
              "      <td>0</td>\n",
              "      <td>5</td>\n",
              "      <td>A Most Delicious Granola</td>\n",
              "      <td>I love this cereal. It is by far the best gran...</td>\n",
              "      <td>Positive</td>\n",
              "      <td>I love this cereal It is by far the best grano...</td>\n",
              "    </tr>\n",
              "    <tr>\n",
              "      <th>127159</th>\n",
              "      <td>B000HDL1P8</td>\n",
              "      <td>Jane Shepard</td>\n",
              "      <td>0</td>\n",
              "      <td>0</td>\n",
              "      <td>5</td>\n",
              "      <td>Easy &amp; delicious</td>\n",
              "      <td>Low in calories, makes a large quantity, very ...</td>\n",
              "      <td>Positive</td>\n",
              "      <td>Low in calories makes a large quantity very ta...</td>\n",
              "    </tr>\n",
              "    <tr>\n",
              "      <th>213938</th>\n",
              "      <td>B000EPMP40</td>\n",
              "      <td>JCH</td>\n",
              "      <td>0</td>\n",
              "      <td>0</td>\n",
              "      <td>5</td>\n",
              "      <td>BEST GLUTEN FREE COOKIE EVER!</td>\n",
              "      <td>I received a basket of gluten free items for C...</td>\n",
              "      <td>Positive</td>\n",
              "      <td>I received a basket of gluten free items for C...</td>\n",
              "    </tr>\n",
              "    <tr>\n",
              "      <th>291861</th>\n",
              "      <td>B001EO5Y8Y</td>\n",
              "      <td>Betsy C</td>\n",
              "      <td>0</td>\n",
              "      <td>0</td>\n",
              "      <td>5</td>\n",
              "      <td>Loved it!</td>\n",
              "      <td>I like really strong coffee, so when I got my ...</td>\n",
              "      <td>Positive</td>\n",
              "      <td>I like really strong coffee so when I got my K...</td>\n",
              "    </tr>\n",
              "  </tbody>\n",
              "</table>\n",
              "</div>\n",
              "      <button class=\"colab-df-convert\" onclick=\"convertToInteractive('df-3dd77dfa-a3a5-41ee-bc69-575fdebb2775')\"\n",
              "              title=\"Convert this dataframe to an interactive table.\"\n",
              "              style=\"display:none;\">\n",
              "        \n",
              "  <svg xmlns=\"http://www.w3.org/2000/svg\" height=\"24px\"viewBox=\"0 0 24 24\"\n",
              "       width=\"24px\">\n",
              "    <path d=\"M0 0h24v24H0V0z\" fill=\"none\"/>\n",
              "    <path d=\"M18.56 5.44l.94 2.06.94-2.06 2.06-.94-2.06-.94-.94-2.06-.94 2.06-2.06.94zm-11 1L8.5 8.5l.94-2.06 2.06-.94-2.06-.94L8.5 2.5l-.94 2.06-2.06.94zm10 10l.94 2.06.94-2.06 2.06-.94-2.06-.94-.94-2.06-.94 2.06-2.06.94z\"/><path d=\"M17.41 7.96l-1.37-1.37c-.4-.4-.92-.59-1.43-.59-.52 0-1.04.2-1.43.59L10.3 9.45l-7.72 7.72c-.78.78-.78 2.05 0 2.83L4 21.41c.39.39.9.59 1.41.59.51 0 1.02-.2 1.41-.59l7.78-7.78 2.81-2.81c.8-.78.8-2.07 0-2.86zM5.41 20L4 18.59l7.72-7.72 1.47 1.35L5.41 20z\"/>\n",
              "  </svg>\n",
              "      </button>\n",
              "      \n",
              "  <style>\n",
              "    .colab-df-container {\n",
              "      display:flex;\n",
              "      flex-wrap:wrap;\n",
              "      gap: 12px;\n",
              "    }\n",
              "\n",
              "    .colab-df-convert {\n",
              "      background-color: #E8F0FE;\n",
              "      border: none;\n",
              "      border-radius: 50%;\n",
              "      cursor: pointer;\n",
              "      display: none;\n",
              "      fill: #1967D2;\n",
              "      height: 32px;\n",
              "      padding: 0 0 0 0;\n",
              "      width: 32px;\n",
              "    }\n",
              "\n",
              "    .colab-df-convert:hover {\n",
              "      background-color: #E2EBFA;\n",
              "      box-shadow: 0px 1px 2px rgba(60, 64, 67, 0.3), 0px 1px 3px 1px rgba(60, 64, 67, 0.15);\n",
              "      fill: #174EA6;\n",
              "    }\n",
              "\n",
              "    [theme=dark] .colab-df-convert {\n",
              "      background-color: #3B4455;\n",
              "      fill: #D2E3FC;\n",
              "    }\n",
              "\n",
              "    [theme=dark] .colab-df-convert:hover {\n",
              "      background-color: #434B5C;\n",
              "      box-shadow: 0px 1px 3px 1px rgba(0, 0, 0, 0.15);\n",
              "      filter: drop-shadow(0px 1px 2px rgba(0, 0, 0, 0.3));\n",
              "      fill: #FFFFFF;\n",
              "    }\n",
              "  </style>\n",
              "\n",
              "      <script>\n",
              "        const buttonEl =\n",
              "          document.querySelector('#df-3dd77dfa-a3a5-41ee-bc69-575fdebb2775 button.colab-df-convert');\n",
              "        buttonEl.style.display =\n",
              "          google.colab.kernel.accessAllowed ? 'block' : 'none';\n",
              "\n",
              "        async function convertToInteractive(key) {\n",
              "          const element = document.querySelector('#df-3dd77dfa-a3a5-41ee-bc69-575fdebb2775');\n",
              "          const dataTable =\n",
              "            await google.colab.kernel.invokeFunction('convertToInteractive',\n",
              "                                                     [key], {});\n",
              "          if (!dataTable) return;\n",
              "\n",
              "          const docLinkHtml = 'Like what you see? Visit the ' +\n",
              "            '<a target=\"_blank\" href=https://colab.research.google.com/notebooks/data_table.ipynb>data table notebook</a>'\n",
              "            + ' to learn more about interactive tables.';\n",
              "          element.innerHTML = '';\n",
              "          dataTable['output_type'] = 'display_data';\n",
              "          await google.colab.output.renderOutput(dataTable, element);\n",
              "          const docLink = document.createElement('div');\n",
              "          docLink.innerHTML = docLinkHtml;\n",
              "          element.appendChild(docLink);\n",
              "        }\n",
              "      </script>\n",
              "    </div>\n",
              "  </div>\n",
              "  "
            ]
          },
          "metadata": {},
          "execution_count": 13
        }
      ],
      "source": [
        "data['reviews'] = data['Text'].apply(text_cleanup)\n",
        "# Add a data.head() to see your data\n",
        "data.head()"
      ]
    },
    {
      "cell_type": "markdown",
      "metadata": {
        "id": "QwWYaZoaydlw"
      },
      "source": [
        "Now you can remmake your dataset using only the information you want.\n",
        "\n",
        "3. Look at the code to re-create your dataset. \n",
        "4. Add a `data.head()` statement to see your new dataset."
      ]
    },
    {
      "cell_type": "code",
      "execution_count": 14,
      "metadata": {
        "id": "DucAJLqOyldh",
        "colab": {
          "base_uri": "https://localhost:8080/",
          "height": 206
        },
        "outputId": "40ba6928-459a-411d-fe24-75e754db91db"
      },
      "outputs": [
        {
          "output_type": "execute_result",
          "data": {
            "text/plain": [
              "                                                  reviews Polarity_Rating\n",
              "320796  We make a lot of taco or tacolike meals and th...        Positive\n",
              "349745  I love this cereal It is by far the best grano...        Positive\n",
              "127159  Low in calories makes a large quantity very ta...        Positive\n",
              "213938  I received a basket of gluten free items for C...        Positive\n",
              "291861  I like really strong coffee so when I got my K...        Positive"
            ],
            "text/html": [
              "\n",
              "  <div id=\"df-f6523a67-cf74-4506-ab47-66b614d20173\">\n",
              "    <div class=\"colab-df-container\">\n",
              "      <div>\n",
              "<style scoped>\n",
              "    .dataframe tbody tr th:only-of-type {\n",
              "        vertical-align: middle;\n",
              "    }\n",
              "\n",
              "    .dataframe tbody tr th {\n",
              "        vertical-align: top;\n",
              "    }\n",
              "\n",
              "    .dataframe thead th {\n",
              "        text-align: right;\n",
              "    }\n",
              "</style>\n",
              "<table border=\"1\" class=\"dataframe\">\n",
              "  <thead>\n",
              "    <tr style=\"text-align: right;\">\n",
              "      <th></th>\n",
              "      <th>reviews</th>\n",
              "      <th>Polarity_Rating</th>\n",
              "    </tr>\n",
              "  </thead>\n",
              "  <tbody>\n",
              "    <tr>\n",
              "      <th>320796</th>\n",
              "      <td>We make a lot of taco or tacolike meals and th...</td>\n",
              "      <td>Positive</td>\n",
              "    </tr>\n",
              "    <tr>\n",
              "      <th>349745</th>\n",
              "      <td>I love this cereal It is by far the best grano...</td>\n",
              "      <td>Positive</td>\n",
              "    </tr>\n",
              "    <tr>\n",
              "      <th>127159</th>\n",
              "      <td>Low in calories makes a large quantity very ta...</td>\n",
              "      <td>Positive</td>\n",
              "    </tr>\n",
              "    <tr>\n",
              "      <th>213938</th>\n",
              "      <td>I received a basket of gluten free items for C...</td>\n",
              "      <td>Positive</td>\n",
              "    </tr>\n",
              "    <tr>\n",
              "      <th>291861</th>\n",
              "      <td>I like really strong coffee so when I got my K...</td>\n",
              "      <td>Positive</td>\n",
              "    </tr>\n",
              "  </tbody>\n",
              "</table>\n",
              "</div>\n",
              "      <button class=\"colab-df-convert\" onclick=\"convertToInteractive('df-f6523a67-cf74-4506-ab47-66b614d20173')\"\n",
              "              title=\"Convert this dataframe to an interactive table.\"\n",
              "              style=\"display:none;\">\n",
              "        \n",
              "  <svg xmlns=\"http://www.w3.org/2000/svg\" height=\"24px\"viewBox=\"0 0 24 24\"\n",
              "       width=\"24px\">\n",
              "    <path d=\"M0 0h24v24H0V0z\" fill=\"none\"/>\n",
              "    <path d=\"M18.56 5.44l.94 2.06.94-2.06 2.06-.94-2.06-.94-.94-2.06-.94 2.06-2.06.94zm-11 1L8.5 8.5l.94-2.06 2.06-.94-2.06-.94L8.5 2.5l-.94 2.06-2.06.94zm10 10l.94 2.06.94-2.06 2.06-.94-2.06-.94-.94-2.06-.94 2.06-2.06.94z\"/><path d=\"M17.41 7.96l-1.37-1.37c-.4-.4-.92-.59-1.43-.59-.52 0-1.04.2-1.43.59L10.3 9.45l-7.72 7.72c-.78.78-.78 2.05 0 2.83L4 21.41c.39.39.9.59 1.41.59.51 0 1.02-.2 1.41-.59l7.78-7.78 2.81-2.81c.8-.78.8-2.07 0-2.86zM5.41 20L4 18.59l7.72-7.72 1.47 1.35L5.41 20z\"/>\n",
              "  </svg>\n",
              "      </button>\n",
              "      \n",
              "  <style>\n",
              "    .colab-df-container {\n",
              "      display:flex;\n",
              "      flex-wrap:wrap;\n",
              "      gap: 12px;\n",
              "    }\n",
              "\n",
              "    .colab-df-convert {\n",
              "      background-color: #E8F0FE;\n",
              "      border: none;\n",
              "      border-radius: 50%;\n",
              "      cursor: pointer;\n",
              "      display: none;\n",
              "      fill: #1967D2;\n",
              "      height: 32px;\n",
              "      padding: 0 0 0 0;\n",
              "      width: 32px;\n",
              "    }\n",
              "\n",
              "    .colab-df-convert:hover {\n",
              "      background-color: #E2EBFA;\n",
              "      box-shadow: 0px 1px 2px rgba(60, 64, 67, 0.3), 0px 1px 3px 1px rgba(60, 64, 67, 0.15);\n",
              "      fill: #174EA6;\n",
              "    }\n",
              "\n",
              "    [theme=dark] .colab-df-convert {\n",
              "      background-color: #3B4455;\n",
              "      fill: #D2E3FC;\n",
              "    }\n",
              "\n",
              "    [theme=dark] .colab-df-convert:hover {\n",
              "      background-color: #434B5C;\n",
              "      box-shadow: 0px 1px 3px 1px rgba(0, 0, 0, 0.15);\n",
              "      filter: drop-shadow(0px 1px 2px rgba(0, 0, 0, 0.3));\n",
              "      fill: #FFFFFF;\n",
              "    }\n",
              "  </style>\n",
              "\n",
              "      <script>\n",
              "        const buttonEl =\n",
              "          document.querySelector('#df-f6523a67-cf74-4506-ab47-66b614d20173 button.colab-df-convert');\n",
              "        buttonEl.style.display =\n",
              "          google.colab.kernel.accessAllowed ? 'block' : 'none';\n",
              "\n",
              "        async function convertToInteractive(key) {\n",
              "          const element = document.querySelector('#df-f6523a67-cf74-4506-ab47-66b614d20173');\n",
              "          const dataTable =\n",
              "            await google.colab.kernel.invokeFunction('convertToInteractive',\n",
              "                                                     [key], {});\n",
              "          if (!dataTable) return;\n",
              "\n",
              "          const docLinkHtml = 'Like what you see? Visit the ' +\n",
              "            '<a target=\"_blank\" href=https://colab.research.google.com/notebooks/data_table.ipynb>data table notebook</a>'\n",
              "            + ' to learn more about interactive tables.';\n",
              "          element.innerHTML = '';\n",
              "          dataTable['output_type'] = 'display_data';\n",
              "          await google.colab.output.renderOutput(dataTable, element);\n",
              "          const docLink = document.createElement('div');\n",
              "          docLink.innerHTML = docLinkHtml;\n",
              "          element.appendChild(docLink);\n",
              "        }\n",
              "      </script>\n",
              "    </div>\n",
              "  </div>\n",
              "  "
            ]
          },
          "metadata": {},
          "execution_count": 14
        }
      ],
      "source": [
        "data = data[[\"reviews\", \"Polarity_Rating\"]]\n",
        "# Add data.head() here \n",
        "data.head()"
      ]
    },
    {
      "cell_type": "markdown",
      "metadata": {
        "id": "ohcHrdej0z1P"
      },
      "source": [
        "##One Hot Encoding\n",
        "\n",
        "One-hot encoding is a process of creating data categories that the network can understand, and that won't have an inherent bias. In this case, you will create a matrix of three columns (for positive, negative, and neutral) and put either a 1 or 0 in the row for the review text. This way the network can be trained using the matrix to validate it's guesses.\n",
        "\n",
        "1. Look through the three lines of code to see how this is done. \n",
        "2. Add a `data.head()` statement to see your new data."
      ]
    },
    {
      "cell_type": "code",
      "execution_count": 15,
      "metadata": {
        "id": "sBCJlHGEaexR",
        "colab": {
          "base_uri": "https://localhost:8080/",
          "height": 206
        },
        "outputId": "59aa8025-2f52-42ec-f9fb-0e95796fc411"
      },
      "outputs": [
        {
          "output_type": "execute_result",
          "data": {
            "text/plain": [
              "                                                  reviews  Negative  Neutral  \\\n",
              "320796  We make a lot of taco or tacolike meals and th...         0        0   \n",
              "349745  I love this cereal It is by far the best grano...         0        0   \n",
              "127159  Low in calories makes a large quantity very ta...         0        0   \n",
              "213938  I received a basket of gluten free items for C...         0        0   \n",
              "291861  I like really strong coffee so when I got my K...         0        0   \n",
              "\n",
              "        Positive  \n",
              "320796         1  \n",
              "349745         1  \n",
              "127159         1  \n",
              "213938         1  \n",
              "291861         1  "
            ],
            "text/html": [
              "\n",
              "  <div id=\"df-92d44fd8-5a5a-475d-bb25-2f123afda3a6\">\n",
              "    <div class=\"colab-df-container\">\n",
              "      <div>\n",
              "<style scoped>\n",
              "    .dataframe tbody tr th:only-of-type {\n",
              "        vertical-align: middle;\n",
              "    }\n",
              "\n",
              "    .dataframe tbody tr th {\n",
              "        vertical-align: top;\n",
              "    }\n",
              "\n",
              "    .dataframe thead th {\n",
              "        text-align: right;\n",
              "    }\n",
              "</style>\n",
              "<table border=\"1\" class=\"dataframe\">\n",
              "  <thead>\n",
              "    <tr style=\"text-align: right;\">\n",
              "      <th></th>\n",
              "      <th>reviews</th>\n",
              "      <th>Negative</th>\n",
              "      <th>Neutral</th>\n",
              "      <th>Positive</th>\n",
              "    </tr>\n",
              "  </thead>\n",
              "  <tbody>\n",
              "    <tr>\n",
              "      <th>320796</th>\n",
              "      <td>We make a lot of taco or tacolike meals and th...</td>\n",
              "      <td>0</td>\n",
              "      <td>0</td>\n",
              "      <td>1</td>\n",
              "    </tr>\n",
              "    <tr>\n",
              "      <th>349745</th>\n",
              "      <td>I love this cereal It is by far the best grano...</td>\n",
              "      <td>0</td>\n",
              "      <td>0</td>\n",
              "      <td>1</td>\n",
              "    </tr>\n",
              "    <tr>\n",
              "      <th>127159</th>\n",
              "      <td>Low in calories makes a large quantity very ta...</td>\n",
              "      <td>0</td>\n",
              "      <td>0</td>\n",
              "      <td>1</td>\n",
              "    </tr>\n",
              "    <tr>\n",
              "      <th>213938</th>\n",
              "      <td>I received a basket of gluten free items for C...</td>\n",
              "      <td>0</td>\n",
              "      <td>0</td>\n",
              "      <td>1</td>\n",
              "    </tr>\n",
              "    <tr>\n",
              "      <th>291861</th>\n",
              "      <td>I like really strong coffee so when I got my K...</td>\n",
              "      <td>0</td>\n",
              "      <td>0</td>\n",
              "      <td>1</td>\n",
              "    </tr>\n",
              "  </tbody>\n",
              "</table>\n",
              "</div>\n",
              "      <button class=\"colab-df-convert\" onclick=\"convertToInteractive('df-92d44fd8-5a5a-475d-bb25-2f123afda3a6')\"\n",
              "              title=\"Convert this dataframe to an interactive table.\"\n",
              "              style=\"display:none;\">\n",
              "        \n",
              "  <svg xmlns=\"http://www.w3.org/2000/svg\" height=\"24px\"viewBox=\"0 0 24 24\"\n",
              "       width=\"24px\">\n",
              "    <path d=\"M0 0h24v24H0V0z\" fill=\"none\"/>\n",
              "    <path d=\"M18.56 5.44l.94 2.06.94-2.06 2.06-.94-2.06-.94-.94-2.06-.94 2.06-2.06.94zm-11 1L8.5 8.5l.94-2.06 2.06-.94-2.06-.94L8.5 2.5l-.94 2.06-2.06.94zm10 10l.94 2.06.94-2.06 2.06-.94-2.06-.94-.94-2.06-.94 2.06-2.06.94z\"/><path d=\"M17.41 7.96l-1.37-1.37c-.4-.4-.92-.59-1.43-.59-.52 0-1.04.2-1.43.59L10.3 9.45l-7.72 7.72c-.78.78-.78 2.05 0 2.83L4 21.41c.39.39.9.59 1.41.59.51 0 1.02-.2 1.41-.59l7.78-7.78 2.81-2.81c.8-.78.8-2.07 0-2.86zM5.41 20L4 18.59l7.72-7.72 1.47 1.35L5.41 20z\"/>\n",
              "  </svg>\n",
              "      </button>\n",
              "      \n",
              "  <style>\n",
              "    .colab-df-container {\n",
              "      display:flex;\n",
              "      flex-wrap:wrap;\n",
              "      gap: 12px;\n",
              "    }\n",
              "\n",
              "    .colab-df-convert {\n",
              "      background-color: #E8F0FE;\n",
              "      border: none;\n",
              "      border-radius: 50%;\n",
              "      cursor: pointer;\n",
              "      display: none;\n",
              "      fill: #1967D2;\n",
              "      height: 32px;\n",
              "      padding: 0 0 0 0;\n",
              "      width: 32px;\n",
              "    }\n",
              "\n",
              "    .colab-df-convert:hover {\n",
              "      background-color: #E2EBFA;\n",
              "      box-shadow: 0px 1px 2px rgba(60, 64, 67, 0.3), 0px 1px 3px 1px rgba(60, 64, 67, 0.15);\n",
              "      fill: #174EA6;\n",
              "    }\n",
              "\n",
              "    [theme=dark] .colab-df-convert {\n",
              "      background-color: #3B4455;\n",
              "      fill: #D2E3FC;\n",
              "    }\n",
              "\n",
              "    [theme=dark] .colab-df-convert:hover {\n",
              "      background-color: #434B5C;\n",
              "      box-shadow: 0px 1px 3px 1px rgba(0, 0, 0, 0.15);\n",
              "      filter: drop-shadow(0px 1px 2px rgba(0, 0, 0, 0.3));\n",
              "      fill: #FFFFFF;\n",
              "    }\n",
              "  </style>\n",
              "\n",
              "      <script>\n",
              "        const buttonEl =\n",
              "          document.querySelector('#df-92d44fd8-5a5a-475d-bb25-2f123afda3a6 button.colab-df-convert');\n",
              "        buttonEl.style.display =\n",
              "          google.colab.kernel.accessAllowed ? 'block' : 'none';\n",
              "\n",
              "        async function convertToInteractive(key) {\n",
              "          const element = document.querySelector('#df-92d44fd8-5a5a-475d-bb25-2f123afda3a6');\n",
              "          const dataTable =\n",
              "            await google.colab.kernel.invokeFunction('convertToInteractive',\n",
              "                                                     [key], {});\n",
              "          if (!dataTable) return;\n",
              "\n",
              "          const docLinkHtml = 'Like what you see? Visit the ' +\n",
              "            '<a target=\"_blank\" href=https://colab.research.google.com/notebooks/data_table.ipynb>data table notebook</a>'\n",
              "            + ' to learn more about interactive tables.';\n",
              "          element.innerHTML = '';\n",
              "          dataTable['output_type'] = 'display_data';\n",
              "          await google.colab.output.renderOutput(dataTable, element);\n",
              "          const docLink = document.createElement('div');\n",
              "          docLink.innerHTML = docLinkHtml;\n",
              "          element.appendChild(docLink);\n",
              "        }\n",
              "      </script>\n",
              "    </div>\n",
              "  </div>\n",
              "  "
            ]
          },
          "metadata": {},
          "execution_count": 15
        }
      ],
      "source": [
        "one_hot = pd.get_dummies(data[\"Polarity_Rating\"])\n",
        "\n",
        "data = pd.concat([data, one_hot], axis=1)\n",
        "data.drop(['Polarity_Rating'], axis=1, inplace=True)\n",
        "\n",
        "# Add a data.head to see your data.\n",
        "data.head()"
      ]
    },
    {
      "cell_type": "markdown",
      "metadata": {
        "id": "9sADAj8Ja_Zn"
      },
      "source": [
        "## Train and Test Split\n",
        "\n",
        "\n",
        "Now that you have all the data cleaned up and formatted in a way that makes sense to the network, it's time to split it into train and test sets for the network! In order to split the data into these groups, you are going to use a library called sklearn. This should already be imported, and all you will need to do is call its train_test_split function to get a train and test data set.\n",
        "\n",
        "To feed data into this network you need an input set and an output set. The input will be the reviews, and the polarity will be the output. First you will create these datasets, and then you will split them into train and test sets. \n",
        "\n",
        "1. Set x_rev to the reviews column \n",
        "2. Set y_pol to the polarity matrix by dropping the reviews column\n",
        "3. Run the cell to use train_test_split to make your training and testing datasets. \n",
        "\n",
        "<details><summary>Click for code</summary>\n",
        "\n",
        "```\n",
        "x_rev = data[\"reviews\"].values\n",
        "\n",
        "y_pol = data.drop(\"reviews\", axis=1)\n",
        "```\n",
        "</details>"
      ]
    },
    {
      "cell_type": "code",
      "execution_count": 16,
      "metadata": {
        "id": "CFautagcbIcv"
      },
      "outputs": [],
      "source": [
        "x_rev = data[\"reviews\"].values\n",
        "y_pol = data.drop(\"reviews\", axis=1)\n",
        "\n",
        "x_rev_train, x_rev_test, y_pol_train, y_pol_test = train_test_split(x_rev, y_pol, test_size=0.30, shuffle=True)"
      ]
    },
    {
      "cell_type": "markdown",
      "metadata": {
        "id": "ytai4H4pb2Mq"
      },
      "source": [
        "### Recap\n",
        "\n",
        "You can use a few Python libraries to clean up and organize data from a spreadsheet. First, you separated the data into three groups and sampled from each of them to ensure that you have an equal amount of each type of review. Then, you removed stopwords and create a matrix for the polarity rating. Finally, you split the data into the appropriate groups to feed into a network to train it. \n",
        "\n",
        "\n",
        "* Learn about text vectorizing in the next section. \n",
        "\n"
      ]
    },
    {
      "cell_type": "markdown",
      "metadata": {
        "id": "c87pZJzIb9mF"
      },
      "source": [
        "#Vectorizing Text\n",
        "\n",
        "So far you have cleaned up all the text data from the reviews and separated them into input and output sets. Now that you have only the important words of the review, and a matrix to represent their polarity, it's time to turn that text into numbers that the network can understand. You will do this using a process called Vectorizing.\n",
        "\n",
        "**Vectorizing** is the process of converting text data into numerical data so that a neural network can perform calculations with it.  \n",
        "\n",
        "In order to do this, you are going to use sklearn. This library has a lot of built-in libraries for reworking data into its numerical form. This process has two phases: fit and transform. \n",
        "\n",
        "* The **fit** stage creates a dictionary of counts of each word from a dataset. This dictionary is called a vocabulary. \n",
        "\n",
        "* The **transform** stage is all about taking a data set and applying it to the vocabulary created during the fit stage. \n",
        "\n",
        "Luckily, the **sklearn** library has built-in functions that will do most of the work for you during this stage. You are going to use a vectorizer called **CountVectorizor** that uses the count of each word to do the vectorization process. Follow these steps to create a vocabulary from the review data, and then transform the input datasets to that vocabulary. \n",
        "\n",
        "## Fit Stage\n",
        "\n",
        "\n",
        "First, you are going to create a vocabulary using the fit function. You will use all of the review data from the dataset and create a dictionary of the frequency of each word. Then, you will export that data and save it.\n",
        "\n",
        "1. Run the cell to create a  vectorizer object"
      ]
    },
    {
      "cell_type": "code",
      "execution_count": 17,
      "metadata": {
        "id": "ZUl5Z8o-b889"
      },
      "outputs": [],
      "source": [
        "vect = CountVectorizer()"
      ]
    },
    {
      "cell_type": "markdown",
      "metadata": {
        "id": "nHmDbA6DceOV"
      },
      "source": [
        "Since we are somewhat limited in the Google Colab notebook about how much space and power the computer has, you are going to set a maximum amount of features for the vectorizer.\n",
        "\n",
        "2. Set the max_features to 15000"
      ]
    },
    {
      "cell_type": "code",
      "execution_count": 18,
      "metadata": {
        "id": "RJDOtHoEci4c"
      },
      "outputs": [],
      "source": [
        "vect.max_features = 15000"
      ]
    },
    {
      "cell_type": "markdown",
      "metadata": {
        "id": "nCJ1CTkucmIx"
      },
      "source": [
        "Call the fit function to create the vocab. You are going to use all the review data so that the input is a consistent size. \n",
        "\n",
        "3. Put x_rev in the parentheses below"
      ]
    },
    {
      "cell_type": "code",
      "execution_count": 19,
      "metadata": {
        "id": "YvSyP_mGctx2",
        "colab": {
          "base_uri": "https://localhost:8080/"
        },
        "outputId": "37e683e9-5a9a-47fe-c9e6-9ee9fd6b5577"
      },
      "outputs": [
        {
          "output_type": "execute_result",
          "data": {
            "text/plain": [
              "CountVectorizer(max_features=15000)"
            ]
          },
          "metadata": {},
          "execution_count": 19
        }
      ],
      "source": [
        "vect.fit(x_rev)"
      ]
    },
    {
      "cell_type": "markdown",
      "metadata": {
        "id": "e2OfE0cScv_b"
      },
      "source": [
        "4. Add a print statement to view vocab\n",
        "5. Run the cell to save the vocab as a variable and see the vocab\n"
      ]
    },
    {
      "cell_type": "code",
      "execution_count": 20,
      "metadata": {
        "id": "A8hw3IXncz_t"
      },
      "outputs": [],
      "source": [
        "vocab = vect.vocabulary_\n",
        "\n"
      ]
    },
    {
      "cell_type": "markdown",
      "metadata": {
        "id": "i0ebk75Ic8Js"
      },
      "source": [
        "6. Run this cell to export the vocab"
      ]
    },
    {
      "cell_type": "code",
      "execution_count": 21,
      "metadata": {
        "id": "niITkBMic_U4",
        "colab": {
          "base_uri": "https://localhost:8080/"
        },
        "outputId": "21debc86-9062-4f7f-97ae-0338884986bb"
      },
      "outputs": [
        {
          "output_type": "execute_result",
          "data": {
            "text/plain": [
              "['vocab.pkl']"
            ]
          },
          "metadata": {},
          "execution_count": 21
        }
      ],
      "source": [
        "joblib.dump(vocab, \"vocab.pkl\")"
      ]
    },
    {
      "cell_type": "markdown",
      "metadata": {
        "id": "ZeX6lk_UdBLS"
      },
      "source": [
        "7. In the file sidebar, download your vocab so that you can use it again later. \n",
        "![image](https://i.imgur.com/2ybphhM.png)"
      ]
    },
    {
      "cell_type": "markdown",
      "metadata": {
        "id": "TCvl7VyzdWQu"
      },
      "source": [
        "##Transform \n",
        "The transform is the stage that actually applies the data you are going to use to the vocabulary created by the fit stage. Follow these steps to transform the data into a form that the network can understand.\n",
        "\n",
        "1. Look at the code below to see how to create a new datasest called x_rev_train_v for the vectorized data that has been transformed. \n",
        "2. Repeaat that line wwith the test data."
      ]
    },
    {
      "cell_type": "code",
      "execution_count": 22,
      "metadata": {
        "id": "XI49EVBMdlUP"
      },
      "outputs": [],
      "source": [
        "# Transform the training data\n",
        "x_rev_train_v = vect.transform(x_rev_train)\n",
        "\n",
        "# Transform the testing data\n",
        "vocab_v=vect.transform(vocab)"
      ]
    },
    {
      "cell_type": "markdown",
      "metadata": {
        "id": "GPZ9cjBRdYLZ"
      },
      "source": [
        "3. Look at the code below to see how the training dataset gets converted to an array. \n",
        "4. Repeat that code with the test data. "
      ]
    },
    {
      "cell_type": "code",
      "execution_count": 23,
      "metadata": {
        "id": "VodbOURCeZfR"
      },
      "outputs": [],
      "source": [
        "x_rev_train_v = x_rev_train_v.toarray()\n",
        "\n",
        "# Convert the test data to an array\n",
        "vocab_v=vocab_v.toarray()"
      ]
    },
    {
      "cell_type": "markdown",
      "metadata": {
        "id": "th6z5yaSegWF"
      },
      "source": [
        "Print out the shape of these datasets to verify that they have been vectorized. They may have different amounts of reviews, but they are both transformed onto the vocabulary, so the second argument should be 15000.\n",
        "\n",
        "5. Add a print statement for the shape of each dataset."
      ]
    },
    {
      "cell_type": "code",
      "execution_count": 24,
      "metadata": {
        "id": "Ba7BpzDJhD2v",
        "outputId": "a8153e3b-52f4-4b24-8cf6-8c091099c690",
        "colab": {
          "base_uri": "https://localhost:8080/"
        }
      },
      "outputs": [
        {
          "output_type": "stream",
          "name": "stdout",
          "text": [
            "(15000, 15000)\n",
            "(16800, 15000)\n"
          ]
        }
      ],
      "source": [
        "# Add print statements \n",
        "print(vocab_v.shape)\n",
        "print(x_rev_train_v.shape)"
      ]
    },
    {
      "cell_type": "markdown",
      "metadata": {
        "id": "u35oYEbXhHih"
      },
      "source": [
        "Data needs to be vectorized in order to be run through the network. You used a python library to do this in two stages: fit and transform. You also exported the vocabulary to be used later, and uploaded it to Drive.\n",
        "\n",
        "* Experiment with the vectorization process by changing the max features and seeing how that changes the shape of the datasets.\n",
        "\n"
      ]
    },
    {
      "cell_type": "markdown",
      "metadata": {
        "id": "nLx2ZTG5hM3v"
      },
      "source": [
        "# Making a Network \n",
        "So far you have cleaned up and prepared the data and vectorized it. Now, it's officially time to create the network to understand the text. Now that we have text as number input and three categories of output, this is essentially just a classification problem. Thus, you can create a network that does classification.\n",
        "\n",
        "**Classification** is a kind of machine learning problem where a network learns what category different data belongs in.\n",
        "\n",
        "In order to create the model, you will use a sequential model. You will create an input layer, several calculation layers, dropout layers, and an output layer. \n",
        "\n",
        "1. Create a sequential model"
      ]
    },
    {
      "cell_type": "code",
      "execution_count": 25,
      "metadata": {
        "id": "Wp2jZj2IhjId"
      },
      "outputs": [],
      "source": [
        "model = Sequential()"
      ]
    },
    {
      "cell_type": "markdown",
      "metadata": {
        "id": "nYmG1Xw8hmYG"
      },
      "source": [
        "###Input Layer\n",
        "\n",
        "\n",
        "The input layer is the first layer of the network. It takes all of the text input and starts to perform calculations with it. This layer needs to be pretty large so that the network can start to get an idea of what it's dealing with. This one is set to 4000 neurons, but if you want to go larger you can!\n",
        "\n",
        "Also, for this layer, you will be deciding on an activation algorithm. Relu is one that works well for these purposes. \n",
        "\n",
        "1. Add a Dense layer wwith `units=15000` and `activation=\"relu`\n",
        "\n",
        "<details><summary>Click for Code</summary>\n",
        "\n",
        "```\n",
        "model.add(Dense(units=15000, activation=\"relu\"))\n",
        "```\n",
        "</details>\n"
      ]
    },
    {
      "cell_type": "code",
      "execution_count": 26,
      "metadata": {
        "id": "ds6DgN-Ahr2k"
      },
      "outputs": [],
      "source": [
        "# Add an input layer \n",
        "model.add(Dense(units=15000, activation=\"relu\"))"
      ]
    },
    {
      "cell_type": "markdown",
      "metadata": {
        "id": "jaSBP0hFh7AD"
      },
      "source": [
        "###Dropout Layers\n",
        "\n",
        "\n",
        "Another important aspect of this model is the dropout layers. These help prevent the network from relying too much on specific neurons and force all the neurons to do some work. This is especially important for large networks like this one. This one is set to drop out at a rate of 0.5 which means half of the neurons. \n",
        "\n",
        "1. Add a dropout layer with a rate of 0.5\n",
        "\n",
        "<details><summary>Click for Code</summary>\n",
        "\n",
        "```\n",
        "model.add(Dropout(0.5))\n",
        "\n",
        "```\n",
        "</details>"
      ]
    },
    {
      "cell_type": "code",
      "execution_count": 27,
      "metadata": {
        "id": "QuZ9jgyoh6ko"
      },
      "outputs": [],
      "source": [
        "# Add a dropout layer \n",
        "model.add(Dropout(0.5))"
      ]
    },
    {
      "cell_type": "markdown",
      "metadata": {
        "id": "Bp0JQVcTiKOX"
      },
      "source": [
        "### Calculation Layers.\n",
        "\n",
        "\n",
        "Once you have the input, it's time to start actually doing calculations with it. This part of the network will do the bulk of the calculation. It's important to include dropout layers in this part of the network as well so that the network continues to be versatile. \n",
        "\n",
        "1. Add as many calculation layers to this network as you please. \n",
        "2. In between each layer, add a dropout layer. \n",
        "\n",
        "<details><summary>Click for an example network</summary>\n",
        "\n",
        "```\n",
        "model.add(Dense(units=2000, activation=\"relu\"))\n",
        "model.add(Dropout(0.5))\n",
        "model.add(Dense(units=500, activation=\"relu\"))\n",
        "model.add(Dropout(0.5))\n",
        "model.add(Dense(units=250, activation=\"relu\"))\n",
        "model.add(Dropout(0.5))\n",
        "\n",
        "```\n",
        "</details>"
      ]
    },
    {
      "cell_type": "code",
      "execution_count": 28,
      "metadata": {
        "id": "jfbuXXrbjaHi"
      },
      "outputs": [],
      "source": [
        "# Add your calculation layers\n",
        "model.add(Dropout(0.5))\n",
        "model.add(Dense(units=500, activation=\"relu\"))\n",
        "model.add(Dropout(0.5))\n",
        "model.add(Dense(units=250, activation=\"relu\"))\n",
        "model.add(Dropout(0.5))"
      ]
    },
    {
      "cell_type": "markdown",
      "metadata": {
        "id": "Z0ygkgsRjcZY"
      },
      "source": [
        "### Output Layer\n",
        "\n",
        "\n",
        "Finally, you will add a layer that outputs the network's decision. The number of neurons for this layer is going to be the number of possible categories. In this case, there are three possible outputs: positive, negative, neutral. The activation algorithm will be softmax, an algorithm that creates a probability that each review belongs in each category.\n",
        "\n",
        "1. Add an output layer with 3 neurons: one for each outcome, and `activation=\"softmax\"`"
      ]
    },
    {
      "cell_type": "code",
      "execution_count": 29,
      "metadata": {
        "id": "f60BxcN3jmDi"
      },
      "outputs": [],
      "source": [
        "# Add your output layer\n",
        "model.add(Dense(3, activation='softmax'))"
      ]
    },
    {
      "cell_type": "markdown",
      "metadata": {
        "id": "v0_cRho6jolr"
      },
      "source": [
        "### Compiling the Network\n",
        "\n",
        "\n",
        "Now that you have all the layers set up, it's time to finally compile the network. First, you will create a variable to hold the optimizer and then you will compile the network.\n",
        "\n",
        "The optimizer is going to be a general-purpose algorithm called adam that will work well for this purpose. The loss algorithm is categorical crossentropy since this problem is bout sorting data into categories, and the metric to watch is accuracy. \n",
        "\n",
        "1. set the learning rate to `0.001` in the parentheses.\n",
        "2. Run the cell to compile the model. \n"
      ]
    },
    {
      "cell_type": "code",
      "execution_count": 30,
      "metadata": {
        "id": "mZF2yy1Qjxy3"
      },
      "outputs": [],
      "source": [
        "opt = tf.keras.optimizers.Adam(learning_rate=0.001)\n",
        "# Compile the network \n",
        "model.compile(loss=\"categorical_crossentropy\", optimizer=opt, metrics=[\"accuracy\"])"
      ]
    },
    {
      "cell_type": "markdown",
      "metadata": {
        "id": "2Yg_Q01Oj4az"
      },
      "source": [
        "### Fit Data to the Network\n",
        "\n",
        "\n",
        "Next, you will train the network using the data that you have prepared. During this stage, you will also decide on batch size and the number of epochs. Finally, you will set the validation data to the test datasets you created.\n",
        "\n",
        "1. Set the batch_size to 256\n",
        "2. Set the epochs to 10 \n",
        "3. Run the cell below to stsart training the network. "
      ]
    },
    {
      "cell_type": "code",
      "execution_count": 31,
      "metadata": {
        "colab": {
          "base_uri": "https://localhost:8080/"
        },
        "id": "iJLWHD0skATD",
        "outputId": "c08d3963-032b-41f1-9528-06e8f15313a0"
      },
      "outputs": [
        {
          "output_type": "stream",
          "name": "stdout",
          "text": [
            "Epoch 1/10\n",
            "66/66 [==============================] - 12s 163ms/step - loss: 0.9708 - accuracy: 0.5498 - val_loss: 0.6849 - val_accuracy: 0.7120\n",
            "Epoch 2/10\n",
            "66/66 [==============================] - 9s 133ms/step - loss: 0.6813 - accuracy: 0.7156 - val_loss: 0.4743 - val_accuracy: 0.8338\n",
            "Epoch 3/10\n",
            "66/66 [==============================] - 9s 137ms/step - loss: 0.5381 - accuracy: 0.7849 - val_loss: 0.3347 - val_accuracy: 0.8886\n",
            "Epoch 4/10\n",
            "66/66 [==============================] - 9s 136ms/step - loss: 0.3971 - accuracy: 0.8495 - val_loss: 0.2222 - val_accuracy: 0.9353\n",
            "Epoch 5/10\n",
            "66/66 [==============================] - 9s 137ms/step - loss: 0.2677 - accuracy: 0.9017 - val_loss: 0.1097 - val_accuracy: 0.9724\n",
            "Epoch 6/10\n",
            "66/66 [==============================] - 9s 137ms/step - loss: 0.1979 - accuracy: 0.9309 - val_loss: 0.0675 - val_accuracy: 0.9811\n",
            "Epoch 7/10\n",
            "66/66 [==============================] - 9s 138ms/step - loss: 0.1364 - accuracy: 0.9531 - val_loss: 0.0386 - val_accuracy: 0.9924\n",
            "Epoch 8/10\n",
            "66/66 [==============================] - 9s 138ms/step - loss: 0.0987 - accuracy: 0.9659 - val_loss: 0.0194 - val_accuracy: 0.9963\n",
            "Epoch 9/10\n",
            "66/66 [==============================] - 9s 140ms/step - loss: 0.0836 - accuracy: 0.9739 - val_loss: 0.0100 - val_accuracy: 0.9981\n",
            "Epoch 10/10\n",
            "66/66 [==============================] - 9s 142ms/step - loss: 0.0572 - accuracy: 0.9818 - val_loss: 0.0150 - val_accuracy: 0.9967\n"
          ]
        },
        {
          "output_type": "execute_result",
          "data": {
            "text/plain": [
              "<keras.callbacks.History at 0x7f4e72decc50>"
            ]
          },
          "metadata": {},
          "execution_count": 31
        }
      ],
      "source": [
        "x = x_rev_train_v\n",
        "y = y_pol_train\n",
        "model.fit(\n",
        "    x = x_rev_train_v,\n",
        "    y = y_pol_train,\n",
        "    batch_size = 256,\n",
        "    epochs = 10,\n",
        "    validation_data = (x,y)\n",
        ")"
      ]
    },
    {
      "cell_type": "markdown",
      "metadata": {
        "id": "_eGxU7ZQkay0"
      },
      "source": [
        "###Evaluating the Network\n",
        "\n",
        "\n",
        "Once the network is done training, you will get the scores from the model, and print out the accuracy. This will give you a good idea of how the network performs on the test data. This network should give an accuracy of about 0.70, which is pretty good. \n",
        "\n",
        "1. Add a print statement to print out `scores[1]`\n",
        "2. Run the cell to get and print the scores."
      ]
    },
    {
      "cell_type": "code",
      "execution_count": 32,
      "metadata": {
        "id": "CkDJdQ-SklB8",
        "colab": {
          "base_uri": "https://localhost:8080/"
        },
        "outputId": "7b56a93f-51de-4635-b68f-b19f2a51d10e"
      },
      "outputs": [
        {
          "output_type": "stream",
          "name": "stdout",
          "text": [
            "0.996666669845581\n"
          ]
        }
      ],
      "source": [
        "scores = model.evaluate(x, y, verbose=0)\n",
        "# Print scores[1] to see the test accuracy\n",
        "print(scores[1])"
      ]
    },
    {
      "cell_type": "markdown",
      "metadata": {
        "id": "l46MC2B4k2Fn"
      },
      "source": [
        "###Save the Model\n",
        "\n",
        "\n",
        "Make sure you add the code to export the model. This way you won't have to wait for it to train in the future. \n",
        "\n",
        "1. Run this cell to save your model. \n",
        "\n",
        "2. Right-click on the model in the File window and Download it. "
      ]
    },
    {
      "cell_type": "code",
      "execution_count": null,
      "metadata": {
        "id": "Vr3wVtu6lGpG"
      },
      "outputs": [],
      "source": [
        "model.save('sentiments.h5')"
      ]
    },
    {
      "cell_type": "markdown",
      "metadata": {
        "id": "M7ThXmQ7lJo5"
      },
      "source": [
        "This network is very large and contains a lot of information. It will take quite a while to train, so go ahead and let it run as long as it needs. Just be sure to leave the tab open while it makes its calculations. \n",
        "\n",
        "###Recap\n",
        "\n",
        "Creating a network that can classify text based on sentiment required a sequential network with a bunch of layers of neurons. You created, trained, and exported this model. "
      ]
    }
  ],
  "metadata": {
    "accelerator": "GPU",
    "colab": {
      "name": "Copy of 12.1_sentiment_analysis.ipynb",
      "provenance": [],
      "collapsed_sections": [
        "ytai4H4pb2Mq",
        "M7ThXmQ7lJo5"
      ],
      "include_colab_link": true
    },
    "gpuClass": "standard",
    "kernelspec": {
      "display_name": "Python 3",
      "name": "python3"
    },
    "language_info": {
      "name": "python"
    }
  },
  "nbformat": 4,
  "nbformat_minor": 0
}